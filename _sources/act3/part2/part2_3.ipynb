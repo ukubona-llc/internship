{
 "cells": [
  {
   "cell_type": "markdown",
   "metadata": {},
   "source": [
    "# Loyal\n",
    "\n",
    "<a href=\"https://abikesa.github.io/nonself-powerplay/index.html\">nonself</a><a href=\"./../../myhtml/0-ukusoma.html\">.</a>tension<a href=\"./../../myhtml/1-nonself.html\">-</a>powerplay<br>\n",
    "<a href=\"https://abikesa.github.io/self-parasympathetic/index.html\">self</a><a href=\"./../../myhtml/2-self.html\">.</a>release<br>\n",
    "<a href=\"https://abikesa.github.io/reframe-conflict/index.html\">reframe</a><a href=\"./../../myhtml/3-reframe.html\">-</a>sus<a href=\"./../../myhtml/3-reframe.html\">.</a>conflict<br>\n",
    "<a href=\"https://abikesa.github.io/boundaries-fractal/index.html\">boundaries</a><a href=\"./../../myhtml/4-boundaries.html\">.</a>fractal<br>\n",
    "<a href=\"https://abikesa.github.io/authorship-scaling/index.html\">authorship</a><a href=\"./../../myhtml/5-authorship.html\">.</a>scale-culture.viral\n"
   ]
  }
 ],
 "metadata": {
  "kernelspec": {
   "display_name": "myenv",
   "language": "python",
   "name": "python3"
  },
  "language_info": {
   "codemirror_mode": {
    "name": "ipython",
    "version": 3
   },
   "file_extension": ".py",
   "mimetype": "text/x-python",
   "name": "python",
   "nbconvert_exporter": "python",
   "pygments_lexer": "ipython3",
   "version": "3.12.4"
  },
  "widgets": {
   "application/vnd.jupyter.widget-state+json": {
    "state": {},
    "version_major": 2,
    "version_minor": 0
   }
  }
 },
 "nbformat": 4,
 "nbformat_minor": 4
}
